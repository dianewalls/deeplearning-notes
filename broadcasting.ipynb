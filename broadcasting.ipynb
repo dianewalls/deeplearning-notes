{
 "cells": [
  {
   "cell_type": "code",
   "execution_count": 10,
   "metadata": {},
   "outputs": [
    {
     "name": "stdout",
     "output_type": "stream",
     "text": [
      "[[29.36 51.23 78.3 ]\n",
      " [45.44 33.2  32.5 ]\n",
      " [25.2  81.5  13.35]]\n"
     ]
    }
   ],
   "source": [
    "import numpy as np\n",
    "\n",
    "M = np.array([[29.36,51.23,78.3],[45.44,33.2,32.5],[25.2,81.5,13.35]])\n",
    "\n",
    "print(M)"
   ]
  },
  {
   "cell_type": "code",
   "execution_count": 11,
   "metadata": {},
   "outputs": [
    {
     "name": "stdout",
     "output_type": "stream",
     "text": [
      "[100.   165.93 124.15]\n"
     ]
    }
   ],
   "source": [
    "total= M.sum(axis=0)\n",
    "print(total)"
   ]
  },
  {
   "cell_type": "code",
   "execution_count": 15,
   "metadata": {},
   "outputs": [
    {
     "name": "stdout",
     "output_type": "stream",
     "text": [
      "[[100.   165.93 124.15]]\n"
     ]
    }
   ],
   "source": [
    "TM = total.reshape(1,3)\n",
    "print(TM)"
   ]
  },
  {
   "cell_type": "code",
   "execution_count": 18,
   "metadata": {},
   "outputs": [
    {
     "name": "stdout",
     "output_type": "stream",
     "text": [
      "[[29.36       30.87446514 63.0688683 ]\n",
      " [45.44       20.00843729 26.17801047]\n",
      " [25.2        49.11709757 10.75312122]]\n"
     ]
    }
   ],
   "source": [
    "percentage = 100*M/TM\n",
    "print(percentage)"
   ]
  },
  {
   "cell_type": "code",
   "execution_count": 19,
   "metadata": {},
   "outputs": [
    {
     "name": "stdout",
     "output_type": "stream",
     "text": [
      "[[-70.64       -69.12553486 -36.9311317 ]\n",
      " [-54.56       -79.99156271 -73.82198953]\n",
      " [-74.8        -50.88290243 -89.24687878]]\n"
     ]
    }
   ],
   "source": [
    "percentage = percentage - 100\n",
    "print(percentage)"
   ]
  },
  {
   "cell_type": "code",
   "execution_count": 20,
   "metadata": {},
   "outputs": [
    {
     "name": "stdout",
     "output_type": "stream",
     "text": [
      "[[ 29.36       130.87446514 263.0688683 ]\n",
      " [ 45.44       120.00843729 226.17801047]\n",
      " [ 25.2        149.11709757 210.75312122]]\n"
     ]
    }
   ],
   "source": [
    "percentage = percentage + np.array([100, 200, 300])\n",
    "print(percentage)"
   ]
  },
  {
   "cell_type": "code",
   "execution_count": 22,
   "metadata": {},
   "outputs": [
    {
     "name": "stdout",
     "output_type": "stream",
     "text": [
      "[[129.36       230.87446514 363.0688683 ]\n",
      " [245.44       320.00843729 426.17801047]\n",
      " [325.2        449.11709757 510.75312122]]\n"
     ]
    }
   ],
   "source": [
    "percentage = percentage + np.array([[100],[200],[300]])\n",
    "print(percentage)"
   ]
  },
  {
   "cell_type": "code",
   "execution_count": null,
   "metadata": {},
   "outputs": [],
   "source": []
  }
 ],
 "metadata": {
  "kernelspec": {
   "display_name": "Python 3",
   "language": "python",
   "name": "python3"
  },
  "language_info": {
   "codemirror_mode": {
    "name": "ipython",
    "version": 3
   },
   "file_extension": ".py",
   "mimetype": "text/x-python",
   "name": "python",
   "nbconvert_exporter": "python",
   "pygments_lexer": "ipython3",
   "version": "3.8.7"
  }
 },
 "nbformat": 4,
 "nbformat_minor": 4
}
